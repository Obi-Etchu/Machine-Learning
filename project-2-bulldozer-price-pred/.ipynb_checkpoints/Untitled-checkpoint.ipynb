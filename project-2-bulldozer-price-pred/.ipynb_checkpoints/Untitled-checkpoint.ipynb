{
 "cells": [
  {
   "cell_type": "code",
   "execution_count": 1,
   "id": "263d9b04-3aca-4ba5-8de8-3843f61ab6ad",
   "metadata": {},
   "outputs": [],
   "source": [
    "import numpy as np\n",
    "import pandas as pd\n",
    "import matplotlib.pyplot as plt\n",
    "import sklearn"
   ]
  },
  {
   "cell_type": "code",
   "execution_count": 3,
   "id": "359b2252-6c73-4605-bd68-12e2012d0dff",
   "metadata": {},
   "outputs": [],
   "source": [
    "df = pd.read_csv(\"TrainAndValid.csv\", low_memory = False)"
   ]
  },
  {
   "cell_type": "code",
   "execution_count": 4,
   "id": "b7a11eee-8bbb-41d4-ac27-8ef1e2b2a4f5",
   "metadata": {},
   "outputs": [
    {
     "data": {
      "text/plain": [
       "<bound method DataFrame.info of        SalesID  SalePrice  MachineID  ModelID  datasource  auctioneerID  \\\n",
       "0      1139246      66000     999089     3157       121.0           3.0   \n",
       "1      1139248      57000     117657       77       121.0           3.0   \n",
       "2      1139249      10000     434808     7009       121.0           3.0   \n",
       "3      1139251      38500    1026470      332       121.0           3.0   \n",
       "4      1139253      11000    1057373    17311       121.0           3.0   \n",
       "...        ...        ...        ...      ...         ...           ...   \n",
       "57870  1315709      10500      55909     4323       132.0          10.0   \n",
       "57871  1315713      33000    1251347     4323       132.0           1.0   \n",
       "57872  1315714      24000    1242883     4323       132.0          10.0   \n",
       "57873  1315715      39000     962647     4323       132.0           1.0   \n",
       "57874  1315721      24750      27172      432         NaN           NaN   \n",
       "\n",
       "       YearMade  MachineHoursCurrentMeter UsageBand         saledate  ...  \\\n",
       "0        2004.0                      68.0       Low  11/16/2006 0:00  ...   \n",
       "1        1996.0                    4640.0       Low   3/26/2004 0:00  ...   \n",
       "2        2001.0                    2838.0      High   2/26/2004 0:00  ...   \n",
       "3        2001.0                    3486.0      High   5/19/2011 0:00  ...   \n",
       "4        2007.0                     722.0    Medium   7/23/2009 0:00  ...   \n",
       "...         ...                       ...       ...              ...  ...   \n",
       "57870    1993.0                       NaN       NaN   3/17/2010 0:00  ...   \n",
       "57871    1994.0                       NaN       NaN   5/20/1997 0:00  ...   \n",
       "57872    1993.0                       NaN       NaN    4/7/1999 0:00  ...   \n",
       "57873    1995.0                       NaN       NaN   9/22/1998 0:00  ...   \n",
       "57874       NaN                       NaN       NaN              NaN  ...   \n",
       "\n",
       "      Undercarriage_Pad_Width Stick_Length Thumb Pattern_Changer Grouser_Type  \\\n",
       "0                         NaN          NaN   NaN             NaN          NaN   \n",
       "1                         NaN          NaN   NaN             NaN          NaN   \n",
       "2                         NaN          NaN   NaN             NaN          NaN   \n",
       "3                         NaN          NaN   NaN             NaN          NaN   \n",
       "4                         NaN          NaN   NaN             NaN          NaN   \n",
       "...                       ...          ...   ...             ...          ...   \n",
       "57870                     NaN          NaN   NaN             NaN          NaN   \n",
       "57871                     NaN          NaN   NaN             NaN          NaN   \n",
       "57872                     NaN          NaN   NaN             NaN          NaN   \n",
       "57873                     NaN          NaN   NaN             NaN          NaN   \n",
       "57874                     NaN          NaN   NaN             NaN          NaN   \n",
       "\n",
       "      Backhoe_Mounting Blade_Type Travel_Controls Differential_Type  \\\n",
       "0                  NaN        NaN             NaN          Standard   \n",
       "1                  NaN        NaN             NaN          Standard   \n",
       "2                  NaN        NaN             NaN               NaN   \n",
       "3                  NaN        NaN             NaN               NaN   \n",
       "4                  NaN        NaN             NaN               NaN   \n",
       "...                ...        ...             ...               ...   \n",
       "57870              NaN        NaN             NaN          Standard   \n",
       "57871              NaN        NaN             NaN          Standard   \n",
       "57872              NaN        NaN             NaN          Standard   \n",
       "57873              NaN        NaN             NaN          Standard   \n",
       "57874              NaN        NaN             NaN               NaN   \n",
       "\n",
       "      Steering_Controls  \n",
       "0          Conventional  \n",
       "1          Conventional  \n",
       "2                   NaN  \n",
       "3                   NaN  \n",
       "4                   NaN  \n",
       "...                 ...  \n",
       "57870      Conventional  \n",
       "57871      Conventional  \n",
       "57872      Conventional  \n",
       "57873      Conventional  \n",
       "57874               NaN  \n",
       "\n",
       "[57875 rows x 53 columns]>"
      ]
     },
     "execution_count": 4,
     "metadata": {},
     "output_type": "execute_result"
    }
   ],
   "source": [
    "df.info"
   ]
  },
  {
   "cell_type": "code",
   "execution_count": null,
   "id": "c11e7a0d-a5e9-4978-bb75-77adddd72054",
   "metadata": {},
   "outputs": [],
   "source": []
  }
 ],
 "metadata": {
  "kernelspec": {
   "display_name": "Python 3 (ipykernel)",
   "language": "python",
   "name": "python3"
  },
  "language_info": {
   "codemirror_mode": {
    "name": "ipython",
    "version": 3
   },
   "file_extension": ".py",
   "mimetype": "text/x-python",
   "name": "python",
   "nbconvert_exporter": "python",
   "pygments_lexer": "ipython3",
   "version": "3.11.7"
  }
 },
 "nbformat": 4,
 "nbformat_minor": 5
}
